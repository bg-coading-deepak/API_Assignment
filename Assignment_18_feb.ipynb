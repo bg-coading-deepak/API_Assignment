{
 "cells": [
  {
   "cell_type": "markdown",
   "id": "824fe221",
   "metadata": {},
   "source": [
    "## Ques-No.1\n",
    "What is an API? Give an example, where an API is used in real life.\n"
   ]
  },
  {
   "cell_type": "code",
   "execution_count": null,
   "id": "a313cffa",
   "metadata": {},
   "outputs": [],
   "source": [
    "APIs are an accessible way to extract and share data within and across organizations.\n",
    "APIs are all around us. Every time you use a rideshare app, send a mobile payment, \n",
    "or change the thermostat temperature from your phone, you're using an API."
   ]
  },
  {
   "cell_type": "markdown",
   "id": "e00b59ae",
   "metadata": {},
   "source": [
    "## Ques-No.2\n",
    "Give advantages and disadvantages of using API."
   ]
  },
  {
   "cell_type": "markdown",
   "id": "7f9a33b5",
   "metadata": {},
   "source": [
    "#### Advantage:-\n",
    "Efficiency: When you have content that is automatically published and made\n",
    "available on different channels simultaneously,\n",
    "APIs allow for more efficient data distribution.\n",
    "Adaptability: One of the greatest benefits of APIs is the ability it has to adapt to changes\n",
    "through data migration andflexibility of services"
   ]
  },
  {
   "cell_type": "markdown",
   "id": "04b87213",
   "metadata": {},
   "source": [
    "#### Disadvantage:-\n",
    "As a single point of entry, an API is a gateway and can become a hacker's primary target.\n",
    "Once the API is compromised, all other applications and systems become vulnerable."
   ]
  },
  {
   "cell_type": "markdown",
   "id": "084e2db8",
   "metadata": {},
   "source": [
    "## Ques-No.3\n",
    "What is a Web API? Differentiate between API and Web API."
   ]
  },
  {
   "cell_type": "code",
   "execution_count": null,
   "id": "a6f30c62",
   "metadata": {},
   "outputs": [],
   "source": [
    "A Web API is an application programming interface for the Web.\n",
    "A Browser API can extend the functionality of a web browser.\n",
    "A Server API can extend the functionality of a web server."
   ]
  },
  {
   "cell_type": "markdown",
   "id": "8010e059",
   "metadata": {},
   "source": [
    "##### Differentiate between API and Web API."
   ]
  },
  {
   "cell_type": "code",
   "execution_count": null,
   "id": "dfa6a49f",
   "metadata": {},
   "outputs": [],
   "source": [
    "Both APIs and web services are technologies that enable the transfer of data between\n",
    "separate software applications.\n",
    "API is an interface that exposes an application's data to outside software,\n",
    "whereas web applications are one type of API with stricter requirements."
   ]
  },
  {
   "cell_type": "markdown",
   "id": "85fe958d",
   "metadata": {},
   "source": [
    "## Ques-No.4\n",
    "Explain REST and SOAP Architecture. Mention shortcomings of SOAP."
   ]
  },
  {
   "cell_type": "code",
   "execution_count": null,
   "id": "47c2ee45",
   "metadata": {},
   "outputs": [],
   "source": [
    "REST is a set of guidelines that offers flexible implementation,\n",
    "whereas SOAP is a protocol with specific requirements like XML messaging.\n",
    "REST APIs are lightweight, making them ideal for newer contexts like the Internet of Things (IoT),\n",
    "mobile application development, and serverless computing"
   ]
  },
  {
   "cell_type": "code",
   "execution_count": null,
   "id": "378decad",
   "metadata": {},
   "outputs": [],
   "source": [
    "As SOAP can only transfer messages as XML files, your SOAP API will be less performant,\n",
    "as XML is a verbose format compared to JSON.\n",
    "API calls made to your server will need more bandwidth and it will take more time to process\n",
    "the request and transfer the response back to the client."
   ]
  },
  {
   "cell_type": "markdown",
   "id": "93cad4a4",
   "metadata": {},
   "source": [
    "## Ques-No.5\n",
    "Differentiate between REST and SOAP."
   ]
  },
  {
   "cell_type": "code",
   "execution_count": null,
   "id": "8422f153",
   "metadata": {},
   "outputs": [],
   "source": [
    ">> SOAP stands for Simple Object Access Protocol and REST stands for Representational State Transfer.\n",
    ">> Since SOAP is a protocol, it follows a strict standard to allow communication between the client and\n",
    "the server whereas REST is an architectural style that doesn’t follow any strict standard but follows\n",
    "six constraints defined by Roy Fielding in 2000. Those constraints are – Uniform Interface,\n",
    "Client-Server, Stateless, Cacheable, Layered System, Code on Demand."
   ]
  }
 ],
 "metadata": {
  "kernelspec": {
   "display_name": "Python 3 (ipykernel)",
   "language": "python",
   "name": "python3"
  },
  "language_info": {
   "codemirror_mode": {
    "name": "ipython",
    "version": 3
   },
   "file_extension": ".py",
   "mimetype": "text/x-python",
   "name": "python",
   "nbconvert_exporter": "python",
   "pygments_lexer": "ipython3",
   "version": "3.9.12"
  }
 },
 "nbformat": 4,
 "nbformat_minor": 5
}
